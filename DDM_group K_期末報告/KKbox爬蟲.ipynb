{
 "cells": [
  {
   "cell_type": "code",
   "execution_count": 49,
   "metadata": {},
   "outputs": [],
   "source": [
    "import requests\n",
    "import bs4\n",
    "import pandas as pd\n",
    "from pandas import DataFrame"
   ]
  },
  {
   "cell_type": "code",
   "execution_count": 50,
   "metadata": {},
   "outputs": [],
   "source": [
    "# response = requests.get(\"https://tw-pop-chart.blogspot.com/2020/12/kkbox-2019-11-30-2020-12-30.html/\")\n",
    "# soup = bs4.BeautifulSoup(response.text,\"html.parser\")\n",
    "\n",
    "# titles = soup.find_all('table')\n",
    "# print(titles)\n",
    "\n",
    "def getKK(html,year):\n",
    "    data = pd.read_html(html)  ## 回傳DataFrame類別的陣列\n",
    "    # 華\n",
    "    df0 = data[0]\n",
    "    n = len(df0)\n",
    "    df0.columns = [\"名次\", \"歌名\", \"歌手\",\"專輯\"]\n",
    "    a = [\"華語\"]*n\n",
    "    df0.insert(3, column=\"語言\", value = a)\n",
    "    b = [year]*n\n",
    "    df0.insert(4, column=\"年分\", value = b)\n",
    "    # 台\n",
    "    df1 = data[1]\n",
    "    n = len(df1)\n",
    "    df1.columns = [\"名次\", \"歌名\", \"歌手\",\"專輯\"]\n",
    "    a = [\"台語\"]*n\n",
    "    df1.insert(3, column=\"語言\", value = a)\n",
    "    b = [year]*n\n",
    "    df1.insert(4, column=\"年分\", value = b)\n",
    "    # 西\n",
    "    df2 = data[2]\n",
    "    n = len(df2)\n",
    "    df2.columns = [\"名次\", \"歌名\", \"歌手\",\"專輯\"]\n",
    "    a = [\"西洋\"]*n\n",
    "    df2.insert(3, column=\"語言\", value = a)\n",
    "    b = [year]*n\n",
    "    df2.insert(4, column=\"年分\", value = b)\n",
    "    # 日\n",
    "    df3 = data[3]\n",
    "    n = len(df3)\n",
    "    df3.columns = [\"名次\", \"歌名\", \"歌手\",\"專輯\"]\n",
    "    a = [\"日語\"]*n\n",
    "    df3.insert(3, column=\"語言\", value = a)\n",
    "    b = [year]*n\n",
    "    df3.insert(4, column=\"年分\", value = b)\n",
    "    # 韓\n",
    "    if len(data) > 4:\n",
    "        df4 = data[4]\n",
    "        n = len(df4)\n",
    "        df4.columns = [\"名次\", \"歌名\", \"歌手\",\"專輯\"]\n",
    "        a = [\"韓語\"]*n\n",
    "        df4.insert(3, column=\"語言\", value = a)\n",
    "        b = [year]*n\n",
    "        df4.insert(4, column=\"年分\", value = b)\n",
    "    \n",
    "        df = pd.concat([df0,df1,df2,df3,df4], ignore_index=True)\n",
    "    else:\n",
    "        df = pd.concat([df0,df1,df2,df3], ignore_index=True)\n",
    "    return df\n",
    "\n",
    "\n",
    "def getKK2(html,year):\n",
    "    data = pd.read_html(html)  ## 回傳DataFrame類別的陣列\n",
    "    data = data[0]\n",
    "    data.columns = [\"名次\", \"歌名\", \"歌手\",\"專輯\"]\n",
    "    a = [\"華語\"]*100\n",
    "    data.insert(4, column=\"語言\", value = a)\n",
    "    b = [year]*100\n",
    "    data.insert(5, column=\"年分\", value = b)\n",
    "    \n",
    "    return data\n",
    "    \n",
    "    \n",
    "\n",
    "\n"
   ]
  },
  {
   "cell_type": "code",
   "execution_count": 46,
   "metadata": {},
   "outputs": [],
   "source": [
    "    \n",
    "df_2021 = getKK('https://tw-pop-chart.blogspot.com/2021/12/kkbox-2020-12-31-2021-12-30.html',2021)  \n",
    "df_2020 = getKK('https://tw-pop-chart.blogspot.com/2020/12/kkbox-2019-11-30-2020-12-30.html',2020)\n",
    "df_2019 = getKK('https://tw-pop-chart.blogspot.com/2019/11/kkbox-2018-11-30-2019-11-29.html',2019)\n",
    "df_2018 = getKK('https://tw-pop-chart.blogspot.com/2018/11/kkbox-2017-11-30-2018-11-29_30.html',2018)\n",
    "df_2017 = getKK2('https://tw-pop-chart.blogspot.com/2018/02/hit-fm-2017.html',2017)\n",
    "df_2016 = getKK2('https://tw-pop-chart.blogspot.com/2017/01/hit-fm-2016.html',2016)\n",
    "df_2015 = getKK2('https://tw-pop-chart.blogspot.com/2016/01/hit-fm-2015.html',2015)\n",
    "df_2014 = getKK2('https://tw-pop-chart.blogspot.com/2015/01/hit-fm-2014_5.html',2014)\n",
    "df_2013 = getKK2('https://tw-pop-chart.blogspot.com/2014/01/hit-fm-2013.html',2013)\n",
    "df_2012 = getKK2('https://tw-pop-chart.blogspot.com/2014/01/hit-fm-2012.html',2012)\n",
    "df_2011 = getKK2('https://tw-pop-chart.blogspot.com/2014/01/hit-fm-2011.html',2011)\n",
    "df_2010 = getKK2('https://tw-pop-chart.blogspot.com/2014/01/hit-fm-2010.html',2010)\n",
    "df_2009 = getKK2('https://tw-pop-chart.blogspot.com/2014/01/hit-fm-2009.html',2009)\n",
    "df_2008 = getKK2('https://tw-pop-chart.blogspot.com/2014/01/hit-fm-2008.html',2008)\n",
    "df_2007 = getKK2('https://tw-pop-chart.blogspot.com/2014/01/hit-fm-2007.html',2007)\n",
    "df_2006 = getKK2('https://tw-pop-chart.blogspot.com/2014/01/hit-fm-2006.html',2006)\n",
    "df_2005 = getKK2('https://tw-pop-chart.blogspot.com/2014/01/hit-fm-2005.html',2005)\n",
    "df_2004 = getKK2('https://tw-pop-chart.blogspot.com/2014/01/hit-fm-2004.html',2004)\n",
    "df_2003 = getKK2('https://tw-pop-chart.blogspot.com/2014/01/hit-fm-2003.html',2003)\n",
    "df_2002 = getKK2('https://tw-pop-chart.blogspot.com/2014/01/hit-fm-2002.html',2002)\n",
    "df_2001 = getKK2('https://tw-pop-chart.blogspot.com/2014/01/hit-fm-2001.html',2001)\n",
    "df_2000 = getKK2('https://tw-pop-chart.blogspot.com/2014/01/hit-fm-2000.html',2000)\n",
    "df_1999 = getKK2('https://tw-pop-chart.blogspot.com/2014/01/hit-fm-1999.html',1999)\n",
    "df_1998 = getKK2('https://tw-pop-chart.blogspot.com/2014/01/hit-fm-1998_8725.html',1998)"
   ]
  },
  {
   "cell_type": "code",
   "execution_count": 61,
   "metadata": {},
   "outputs": [
    {
     "name": "stdout",
     "output_type": "stream",
     "text": [
      "       名次           歌名               歌手  語言    年分                       專輯\n",
      "0       1  愛情你比我想的閣較偉大              茄子蛋  華語  2021            《當男人戀愛時》電影主題曲\n",
      "1       2    在這座城市遺失了你              告五人  華語  2021               《運氣來得若有似無》\n",
      "2       3         我很好騙             動力火車  華語  2021                  《都是因為愛》\n",
      "3       4         四季予你               程響  華語  2021                   《四季予你》\n",
      "4       5       阿拉斯加海灣              蔡恩雨  華語  2021                 《阿拉斯加海灣》\n",
      "...   ...          ...              ...  ..   ...                      ...\n",
      "3995   96           影子               劉沁  華語  1998                       青睞\n",
      "3996   97   MILLENNIUM  ROBBIE WILLIAMS  西洋  1998  I'VE BEEN EXPECTING YOU\n",
      "3997   98         真的想你           杜德偉+順子  華語  1998                鍾愛1998新選集\n",
      "3998   99          我愛你              周俊偉  華語  1998                      我愛你\n",
      "3999  100         無法忘記             山風點伙  華語  1998                     無法忘記\n",
      "\n",
      "[4000 rows x 6 columns]\n"
     ]
    }
   ],
   "source": [
    "# df_old = pd.concat([df_2021,df_2020,df_2019,df_2018,df_2017,df_2016,df_2015,df_2014,df_2013,df_2012,df_2011,df_2010,df_2009,df_2008,df_2007,df_2006,df_2005,df_2004,df_2003,df_2002,df_2001,df_2000,df_1999,df_1998], ignore_index=True)\n",
    "# df_old = df_old.drop_duplicates(subset=['歌名','歌手'],keep = 'first',ignore_index = True)\n",
    "\n",
    "df_old = pd.read_csv('hot_songs _0525.csv')\n",
    "df_old = pd.DataFrame.drop(df_old,columns='語言old')\n",
    "df_old = df_old.reindex(columns=['名次','歌名','歌手','語言','年分','專輯'])\n",
    "print(df_old)"
   ]
  },
  {
   "cell_type": "code",
   "execution_count": 62,
   "metadata": {},
   "outputs": [],
   "source": [
    "d_1711 = getKK('https://tw-pop-chart.blogspot.com/2017/12/kkbox-201711.html',2017) \n",
    "d_1710 = getKK('https://tw-pop-chart.blogspot.com/2017/11/kkbox-201710_62.html',2017) \n",
    "d_1709 = getKK('https://tw-pop-chart.blogspot.com/2017/10/kkbox-201709_48.html',2017) \n",
    "d_1708 = getKK('https://tw-pop-chart.blogspot.com/2017/09/kkbox-201708_28.html',2017) \n",
    "d_1707 = getKK('https://tw-pop-chart.blogspot.com/2017/08/kkbox-201707_6.html',2017) \n",
    "d_1706 = getKK('https://tw-pop-chart.blogspot.com/2017/07/kkbox-201706_57.html',2017) \n",
    "d_1705 = getKK('https://tw-pop-chart.blogspot.com/2017/06/kkbox-201705_58.html',2017) \n",
    "d_1704 = getKK('https://tw-pop-chart.blogspot.com/2017/05/kkbox-201704_78.html',2017)\n",
    "d_1703 = getKK('https://tw-pop-chart.blogspot.com/2017/04/kkbox-201703_55.html',2017) \n",
    "d_1702 = getKK('https://tw-pop-chart.blogspot.com/2017/03/kkbox-201702_25.html',2017) \n",
    "d_1701 = getKK('https://tw-pop-chart.blogspot.com/2017/02/kkbox-201701_36.html',2017) \n",
    "\n"
   ]
  },
  {
   "cell_type": "code",
   "execution_count": 63,
   "metadata": {},
   "outputs": [
    {
     "name": "stdout",
     "output_type": "stream",
     "text": [
      "       名次               歌名               歌手  語言    年分   \n",
      "0       1            剛好遇見你              李玉剛  華語  2017  \\\n",
      "1       2    幹大事 BIG THING          頑童MJ116  華語  2017   \n",
      "2       3             漂向北方    黃明志 (Namewee)  華語  2017   \n",
      "3       4              家家酒      家家 (JiaJia)  華語  2017   \n",
      "4       5              追光者  岑寧兒 (Yoyo Sham)  華語  2017   \n",
      "...   ...              ...              ...  ..   ...   \n",
      "1254   88            SOBER  BIGBANG (Korea)  韓語  2017   \n",
      "1255   96            好像都睡了       韶宥 (Soyou)  韓語  2017   \n",
      "1256   98     Dancing King        劉在錫 X EXO  韓語  2017   \n",
      "1257   99         Only You            WENDY  韓語  2017   \n",
      "1258  100  WE LIKE 2 PARTY  BIGBANG (Korea)  韓語  2017   \n",
      "\n",
      "                                    專輯  \n",
      "0                                  NaN  \n",
      "1                                  NaN  \n",
      "2              (Stranger In The North)  \n",
      "3          (Playhouse) - 三立華劇<極品絕配>片尾曲  \n",
      "4     (The Light Runner) - 電視劇<夏至未至>插曲  \n",
      "...                                ...  \n",
      "1254                               NaN  \n",
      "1255       (I‘ve Been Thinking Of You)  \n",
      "1256                               NaN  \n",
      "1257                               NaN  \n",
      "1258                               NaN  \n",
      "\n",
      "[1259 rows x 6 columns]\n"
     ]
    }
   ],
   "source": [
    "df2 = pd.concat([d_1711,d_1710,d_1709,d_1708,d_1707,d_1706,d_1705,d_1704,d_1703,d_1702,d_1701], ignore_index=True)\n",
    "df2_new = df2.drop_duplicates(subset=['歌名','歌手'],keep = 'first', ignore_index = True)\n",
    "print(df2_new)\n"
   ]
  },
  {
   "cell_type": "code",
   "execution_count": 64,
   "metadata": {},
   "outputs": [],
   "source": [
    "#2016\n",
    "d_1612 = getKK('https://tw-pop-chart.blogspot.com/2017/01/kkbox-201612_15.html',2016) \n",
    "d_1611 = getKK('https://tw-pop-chart.blogspot.com/2016/12/kkbox-201611_54.html',2016) \n",
    "d_1610 = getKK('https://tw-pop-chart.blogspot.com/2016/11/kkbox-201610_51.html',2016) \n",
    "d_1609 = getKK('https://tw-pop-chart.blogspot.com/2016/10/kkbox-201609_1.html',2016) \n",
    "d_1608 = getKK('https://tw-pop-chart.blogspot.com/2016/09/kkbox-201608_1.html',2016) \n",
    "d_1607 = getKK('https://tw-pop-chart.blogspot.com/2016/08/kkbox-201607_1.html',2016) \n",
    "d_1606 = getKK('https://tw-pop-chart.blogspot.com/2016/07/kkbox-201606_1.html',2016) \n",
    "d_1605 = getKK('https://tw-pop-chart.blogspot.com/2016/06/kkbox-201605_1.html',2016) \n",
    "d_1604 = getKK('https://tw-pop-chart.blogspot.com/2016/05/kkbox-201604_1.html',2016)\n",
    "d_1603 = getKK('https://tw-pop-chart.blogspot.com/2016/04/kkbox-201603_1.html',2016) \n",
    "d_1602 = getKK('https://tw-pop-chart.blogspot.com/2016/03/kkbox-201602_1.html',2016) \n",
    "d_1601 = getKK('https://tw-pop-chart.blogspot.com/2016/02/kkbox-201601_1.html',2016) \n",
    "\n"
   ]
  },
  {
   "cell_type": "code",
   "execution_count": 65,
   "metadata": {},
   "outputs": [
    {
     "name": "stdout",
     "output_type": "stream",
     "text": [
      "       名次          歌名                 歌手  語言    年分   \n",
      "0       1        告白氣球     周杰倫 (Jay Chou)  華語  2016  \\\n",
      "1       2        帥到分手  周湯豪 (NICKTHEREAL)  華語  2016   \n",
      "2       3       謝謝妳愛我      謝和弦 (R-chord)  華語  2016   \n",
      "3       4     讓我留在你身邊                陳奕迅  華語  2016   \n",
      "4       5      你，好不好？           Eric 周興哲  華語  2016   \n",
      "...   ...         ...                ...  ..   ...   \n",
      "1215   95    AIRPLANE               iKON  韓語  2016   \n",
      "1216   97   Candy Boy              TWICE  韓語  2016   \n",
      "1217   98        View             SHINee  韓語  2016   \n",
      "1218   99    Only One           寶兒 (BoA)  韓語  2016   \n",
      "1219  100  No Make Up             Zion.T  韓語  2016   \n",
      "\n",
      "                                                     專輯  \n",
      "0                                                   NaN  \n",
      "1                                                   NaN  \n",
      "2                                (Thanks For Your Love)  \n",
      "3                                                   NaN  \n",
      "4     (How Have You Been?) - Ending Theme Song of TV...  \n",
      "...                                                 ...  \n",
      "1215                                                NaN  \n",
      "1216                                                NaN  \n",
      "1217                                                NaN  \n",
      "1218                                                NaN  \n",
      "1219                                                NaN  \n",
      "\n",
      "[1220 rows x 6 columns]\n"
     ]
    }
   ],
   "source": [
    "df3 = pd.concat([d_1612,d_1611,d_1610,d_1609,d_1608,d_1607,d_1606,d_1605,d_1604,d_1603,d_1602,d_1601], ignore_index=True)\n",
    "df3_new = df3.drop_duplicates(subset=['歌名','歌手'],keep = 'first', ignore_index = True)\n",
    "print(df3_new)\n"
   ]
  },
  {
   "cell_type": "code",
   "execution_count": 66,
   "metadata": {},
   "outputs": [],
   "source": [
    "# 2015\n",
    "d_1512 = getKK('https://tw-pop-chart.blogspot.com/2016/01/kkbox-201512_1.html',2015) \n",
    "d_1511 = getKK('https://tw-pop-chart.blogspot.com/2015/12/kkbox-201511_1.html',2015) \n",
    "d_1510 = getKK('https://tw-pop-chart.blogspot.com/2015/11/kkbox-201510_1.html',2015) \n",
    "d_1509 = getKK('https://tw-pop-chart.blogspot.com/2015/10/kkbox-201509_1.html',2015) \n",
    "d_1508 = getKK('https://tw-pop-chart.blogspot.com/2015/09/kkbox-201508_1.html',2015) \n",
    "d_1507 = getKK('https://tw-pop-chart.blogspot.com/2015/08/kkbox-201507_1.html',2015) \n",
    "d_1506 = getKK('https://tw-pop-chart.blogspot.com/2015/07/kkbox-201506_1.html',2015) \n",
    "d_1505 = getKK('https://tw-pop-chart.blogspot.com/2015/06/kkbox-201505_1.html',2015) \n",
    "d_1504 = getKK('https://tw-pop-chart.blogspot.com/2015/05/kkbox-201504_1.html',2015)\n",
    "d_1503 = getKK('https://tw-pop-chart.blogspot.com/2015/04/kkbox-201503_1.html',2015) \n",
    "d_1502 = getKK('https://tw-pop-chart.blogspot.com/2015/03/kkbox-201502_1.html',2015) \n",
    "d_1501 = getKK('https://tw-pop-chart.blogspot.com/2015/02/kkbox-201501_1.html',2015)"
   ]
  },
  {
   "cell_type": "code",
   "execution_count": 67,
   "metadata": {},
   "outputs": [
    {
     "name": "stdout",
     "output_type": "stream",
     "text": [
      "      名次                   歌名                 歌手  語言    年分   \n",
      "0      1                  小幸運         田馥甄 (Hebe)  華語  2015  \\\n",
      "1      2                   兜圈     林宥嘉 (Yoga Lin)  華語  2015   \n",
      "2      3                  也可以                閻奕格  華語  2015   \n",
      "3      4              不為誰而作的歌       林俊傑 (JJ Lin)  華語  2015   \n",
      "4      5                別說沒愛過  韋禮安 (William Wei)  華語  2015   \n",
      "...   ..                  ...                ...  ..   ...   \n",
      "1216  91              愛情隱藏的意義       圭賢 (KYUHYUN)  韓語  2015   \n",
      "1217  92            我的思維，你的記憶       圭賢 (KYUHYUN)  韓語  2015   \n",
      "1218  94                  Now      Trouble Maker  韓語  2015   \n",
      "1219  98                 深夜飛行       圭賢 (KYUHYUN)  韓語  2015   \n",
      "1220  99  Whatcha Doin' Today            4Minute  韓語  2015   \n",
      "\n",
      "                                        專輯  \n",
      "0     (A little happiness) - 電影<我的少女時代>主題曲  \n",
      "1                                      片尾曲  \n",
      "2             (Might as well) - 電影<追婚日記>插曲  \n",
      "3                               (Twilight)  \n",
      "4              (Dont' Say) - 電視劇<致,第三者>片尾曲  \n",
      "...                                    ...  \n",
      "1216                      (One confession)  \n",
      "1217          (My thoughts, Your memories)  \n",
      "1218                                   NaN  \n",
      "1219           (Flying, deep in the night)  \n",
      "1220                                   NaN  \n",
      "\n",
      "[1221 rows x 6 columns]\n"
     ]
    }
   ],
   "source": [
    "df4 = pd.concat([d_1512,d_1511,d_1510,d_1509,d_1508,d_1507,d_1506,d_1505,d_1504,d_1503,d_1502,d_1501], ignore_index=True)\n",
    "df4_new = df4.drop_duplicates(subset=['歌名','歌手'],keep = 'first', ignore_index = True)\n",
    "print(df4_new)"
   ]
  },
  {
   "cell_type": "code",
   "execution_count": 68,
   "metadata": {},
   "outputs": [],
   "source": [
    "def monthKK(year):\n",
    "    dec = 'https://tw-pop-chart.blogspot.com/'+ str(year+1) +'/01/kkbox-'+str(year)+'12_1.html'\n",
    "    df = getKK(dec,year)\n",
    "    for i in range(1,12):\n",
    "        if i >= 10:\n",
    "            html = 'https://tw-pop-chart.blogspot.com/'+str(year)+'/'+str(i+1)+'/kkbox-' + str(year)+str(i)+'_1.html'\n",
    "        elif i == 9:\n",
    "            html = 'https://tw-pop-chart.blogspot.com/'+str(year)+'/'+str(i+1)+'/kkbox-' + str(year)+'0'+str(i)+'_1.html'\n",
    "        else:\n",
    "            html = 'https://tw-pop-chart.blogspot.com/'+str(year)+'/0'+str(i+1)+'/kkbox-' + str(year)+'0'+str(i)+'_1.html'\n",
    "        mydf = getKK(html,year) \n",
    "        df = pd.concat([df,mydf], ignore_index=True)\n",
    "        \n",
    "    df4_new = df.drop_duplicates(subset=['歌名','歌手'],keep = 'first', ignore_index = True)\n",
    "    return df4_new"
   ]
  },
  {
   "cell_type": "code",
   "execution_count": 69,
   "metadata": {},
   "outputs": [
    {
     "name": "stdout",
     "output_type": "stream",
     "text": [
      "      名次                     歌名                    歌手  語言    年分   \n",
      "0      1                   第三人稱                   蔡依林  華語  2014  \\\n",
      "1      2                   喜劇之王                   李榮浩  華語  2014   \n",
      "2      3                 我還是愛著你  MP魔幻力量 (Magic Power)  華語  2014   \n",
      "3      4                    將軍令          五月天 (Mayday)  華語  2014   \n",
      "4      5                  失憶的金魚                  丞琳 楊  華語  2014   \n",
      "...   ..                    ...                   ...  ..   ...   \n",
      "1221  84  *Prologue* ～You ＆ Me～   西野加奈 (Kana Nishino)  日語  2014   \n",
      "1222  88  I miss you feat. 清水翔太       SPICY CHOCOLATE  日語  2014   \n",
      "1223  89                     散步           吉卜力 動畫電影原聲帶  日語  2014   \n",
      "1224  98             Never Know   西野加奈 (Kana Nishino)  日語  2014   \n",
      "1225  92    命中注定的你《李健與美英的命運奏鳴曲》   鄭東河 (Jeong Dong Ha)  韓語  2014   \n",
      "\n",
      "                    專輯  \n",
      "0                  NaN  \n",
      "1                  NaN  \n",
      "2     【三立華劇[幸福兌換券]片尾曲】  \n",
      "3           電影「黃飛鴻」主題曲  \n",
      "4                  NaN  \n",
      "...                ...  \n",
      "1221               NaN  \n",
      "1222               NaN  \n",
      "1223         (井上Azumi)  \n",
      "1224               NaN  \n",
      "1225               NaN  \n",
      "\n",
      "[1226 rows x 6 columns]\n"
     ]
    }
   ],
   "source": [
    "#2014\n",
    "df5_new = monthKK(2014)\n",
    "print(df5_new)"
   ]
  },
  {
   "cell_type": "code",
   "execution_count": 70,
   "metadata": {},
   "outputs": [
    {
     "name": "stdout",
     "output_type": "stream",
     "text": [
      "      名次                歌名                        歌手  語言    年分   \n",
      "0      1           你就不要想起我                田馥甄 (Hebe)  華語  2013  \\\n",
      "1      2                步步              五月天 (Mayday)  華語  2013   \n",
      "2      3          分手後不要做朋友                      文音 梁  華語  2013   \n",
      "3      4               手掌心                丁噹 (Della)  華語  2013   \n",
      "4      5              身不由己                丁噹 (Della)  華語  2013   \n",
      "...   ..               ...                       ...  ..   ...   \n",
      "1255  57             GO UP  WIN ( TEAM A vs. TEAM B)  韓語  2013   \n",
      "1256  68            CLIMAX  WIN ( TEAM A vs. TEAM B)  韓語  2013   \n",
      "1257  72  JUST ANOTHER BOY  WIN ( TEAM A vs. TEAM B)  韓語  2013   \n",
      "1258  90      Falling Star                  FTISLAND  韓語  2013   \n",
      "1259  93   Always With You                  FTISLAND  韓語  2013   \n",
      "\n",
      "                    專輯  \n",
      "0                  NaN  \n",
      "1          戲劇<步步驚情>主題曲  \n",
      "2      三立偶像劇<回到愛以前>片尾曲  \n",
      "3       中視古裝大戲<蘭陵王>片尾曲  \n",
      "4     丁噹 - 戲劇<步步驚情>主題曲  \n",
      "...                ...  \n",
      "1255          (TEAM A)  \n",
      "1256          (TEAM B)  \n",
      "1257          (TEAM A)  \n",
      "1258               NaN  \n",
      "1259               NaN  \n",
      "\n",
      "[1260 rows x 6 columns]\n"
     ]
    }
   ],
   "source": [
    "#2013\n",
    "df6_new = monthKK(2013)\n",
    "print(df6_new)"
   ]
  },
  {
   "cell_type": "code",
   "execution_count": 71,
   "metadata": {},
   "outputs": [
    {
     "name": "stdout",
     "output_type": "stream",
     "text": [
      "      名次                 歌名           歌手  語言    年分   \n",
      "0      1             暫時的男朋友   嚴爵 (Yen-j)  華語  2012  \\\n",
      "1      2                明明就          周杰倫  華語  2012   \n",
      "2      3              吾在場證明   嚴爵 (Yen-j)  華語  2012   \n",
      "3      4              我的歌聲裡          曲婉婷  華語  2012   \n",
      "4      5              變成陌生人          王心凌  華語  2012   \n",
      "...   ..                ...          ...  ..   ...   \n",
      "1322  78               今夜別走         JUJU  日語  2012   \n",
      "1323  80  Sunao Ni Naretara         JUJU  日語  2012   \n",
      "1324  89             就算我想瘋掉  艾力克斯 (Alex)  韓語  2012   \n",
      "1325  93    If I were a boy       miss A  韓語  2012   \n",
      "1326  94           Ma Style       miss A  韓語  2012   \n",
      "\n",
      "                                          專輯  \n",
      "0                                        NaN  \n",
      "1                                        NaN  \n",
      "2                                        NaN  \n",
      "3     (You Exist in My Song) - Album Version  \n",
      "4                                        NaN  \n",
      "...                                      ...  \n",
      "1322                                     NaN  \n",
      "1323                                     NaN  \n",
      "1324                   (實力派演員「鄭麗媛」跨刀演出音樂錄影帶)  \n",
      "1325                                     NaN  \n",
      "1326                                     NaN  \n",
      "\n",
      "[1327 rows x 6 columns]\n"
     ]
    }
   ],
   "source": [
    "#2012\n",
    "df7_new = monthKK(2012)\n",
    "print(df7_new)"
   ]
  },
  {
   "cell_type": "code",
   "execution_count": 72,
   "metadata": {},
   "outputs": [
    {
     "name": "stdout",
     "output_type": "stream",
     "text": [
      "      名次          歌名                           歌手  語言    年分                 專輯\n",
      "0      1          星空                 五月天 (Mayday)  華語  2011  【幾米繪本電影「星空」同名主題曲】\n",
      "1      2        微加幸福                郁可唯 (Yisa Yu)  華語  2011       <小資女孩向前衝>片尾曲\n",
      "2      3         學不會                 林俊傑 (JJ Lin)  華語  2011                NaN\n",
      "3      4        勢在必行  陳勢安 + Bii (Andrew Tan +Bii)  華語  2011           <勇士們>主題曲\n",
      "4      5         心‧洞             陳勢安 (Andrew Tan)  華語  2011     韓劇<真心給我一滴淚>片尾曲\n",
      "...   ..         ...                          ...  ..   ...                ...\n",
      "1589  76  Separation                          YUI  日語  2011                NaN\n",
      "1590  87         未完成         清水翔太 (Shota Shimizu)  日語  2011                NaN\n",
      "1591  90      Baby U                        MBLAQ  日語  2011                NaN\n",
      "1592  94        Duet           東方神起 (Toho Shinki)  日語  2011                NaN\n",
      "1593  90   YESTERDAY           金奎鐘 (Kim Kyu Jong)  韓語  2011       (比昨天更傷心的今天…)\n",
      "\n",
      "[1594 rows x 6 columns]\n"
     ]
    }
   ],
   "source": [
    "#2011\n",
    "df8_new = monthKK(2011)\n",
    "print(df8_new)"
   ]
  },
  {
   "cell_type": "code",
   "execution_count": 73,
   "metadata": {
    "scrolled": true
   },
   "outputs": [
    {
     "name": "stdout",
     "output_type": "stream",
     "text": [
      "      名次             歌名                   歌手  語言    年分                  專輯\n",
      "0      1            沒關係       吳克群 (Kenji Wu)  華語  2010                 NaN\n",
      "1      2             洋蔥           丁噹 (Della)  華語  2010                 NaN\n",
      "2      3             她說         林俊傑 (JJ Lin)  華語  2010                 NaN\n",
      "3      4       給我一個理由忘記                A-Lin  華語  2010  八大電視台<我的女友是九尾狐>片尾曲\n",
      "4      5             天后     陳勢安 (Andrew Tan)  華語  2010       八大韓劇<同伊>片尾主題曲\n",
      "...   ..            ...                  ...  ..   ...                 ...\n",
      "1330  92          プレゼント                 新垣結衣  日語  2010                 NaN\n",
      "1331  94              扉                 新垣結衣  日語  2010                 NaN\n",
      "1332  95      UP & DOWN               SHINee  日語  2010                 NaN\n",
      "1333  97             唯一               SHINee  日語  2010               (One)\n",
      "1334  99  I'll be there  西野加奈 (Kana Nishino)  日語  2010                 NaN\n",
      "\n",
      "[1335 rows x 6 columns]\n"
     ]
    }
   ],
   "source": [
    "#2010\n",
    "df9_new = monthKK(2010)\n",
    "print(df9_new)"
   ]
  },
  {
   "cell_type": "code",
   "execution_count": null,
   "metadata": {},
   "outputs": [],
   "source": []
  },
  {
   "cell_type": "code",
   "execution_count": 74,
   "metadata": {},
   "outputs": [
    {
     "name": "stdout",
     "output_type": "stream",
     "text": [
      "      名次             歌名               歌手  語言    年分   \n",
      "0      1          剛好遇見你              李玉剛  華語  2017  \\\n",
      "1      2  幹大事 BIG THING          頑童MJ116  華語  2017   \n",
      "2      3           漂向北方    黃明志 (Namewee)  華語  2017   \n",
      "3      4            家家酒      家家 (JiaJia)  華語  2017   \n",
      "4      5            追光者  岑寧兒 (Yoyo Sham)  華語  2017   \n",
      "...   ..            ...              ...  ..   ...   \n",
      "7193  86           てくてく             新垣結衣  日語  2010   \n",
      "7194  92          プレゼント             新垣結衣  日語  2010   \n",
      "7195  94              扉             新垣結衣  日語  2010   \n",
      "7196  95      UP & DOWN           SHINee  日語  2010   \n",
      "7197  97             唯一           SHINee  日語  2010   \n",
      "\n",
      "                                    專輯  \n",
      "0                                  NaN  \n",
      "1                                  NaN  \n",
      "2              (Stranger In The North)  \n",
      "3          (Playhouse) - 三立華劇<極品絕配>片尾曲  \n",
      "4     (The Light Runner) - 電視劇<夏至未至>插曲  \n",
      "...                                ...  \n",
      "7193                               NaN  \n",
      "7194                               NaN  \n",
      "7195                               NaN  \n",
      "7196                               NaN  \n",
      "7197                             (One)  \n",
      "\n",
      "[7198 rows x 6 columns]\n"
     ]
    }
   ],
   "source": [
    "df_new = pd.concat([df2_new,df3_new,df4_new,df5_new,df6_new,df7_new,df8_new,df9_new], ignore_index=True)        \n",
    "df_new = df_new.drop_duplicates(subset=['歌名','歌手'],keep = 'first', ignore_index = True)\n",
    "print(df_new)\n",
    "df_new.to_csv(\"new_hot_songs.csv\", index=False)"
   ]
  },
  {
   "cell_type": "code",
   "execution_count": 75,
   "metadata": {},
   "outputs": [
    {
     "name": "stdout",
     "output_type": "stream",
     "text": [
      "       名次           歌名      歌手  語言    年分             專輯\n",
      "0       1  愛情你比我想的閣較偉大     茄子蛋  華語  2021  《當男人戀愛時》電影主題曲\n",
      "1       2    在這座城市遺失了你     告五人  華語  2021     《運氣來得若有似無》\n",
      "2       3         我很好騙    動力火車  華語  2021        《都是因為愛》\n",
      "3       4         四季予你      程響  華語  2021         《四季予你》\n",
      "4       5       阿拉斯加海灣     蔡恩雨  華語  2021       《阿拉斯加海灣》\n",
      "...    ..          ...     ...  ..   ...            ...\n",
      "10887  86         てくてく    新垣結衣  日語  2010            NaN\n",
      "10888  92        プレゼント    新垣結衣  日語  2010            NaN\n",
      "10889  94            扉    新垣結衣  日語  2010            NaN\n",
      "10890  95    UP & DOWN  SHINee  日語  2010            NaN\n",
      "10891  97           唯一  SHINee  日語  2010          (One)\n",
      "\n",
      "[10892 rows x 6 columns]\n"
     ]
    }
   ],
   "source": [
    "df = pd.concat([df_old,df_new], ignore_index=True)        \n",
    "df = df.drop_duplicates(subset=['歌名','歌手'],keep = 'first', ignore_index = True)\n",
    "print(df)\n",
    "df.to_csv(\"all_hot_songs.csv\", index=False)"
   ]
  }
 ],
 "metadata": {
  "kernelspec": {
   "display_name": "Python 3",
   "language": "python",
   "name": "python3"
  },
  "language_info": {
   "codemirror_mode": {
    "name": "ipython",
    "version": 3
   },
   "file_extension": ".py",
   "mimetype": "text/x-python",
   "name": "python",
   "nbconvert_exporter": "python",
   "pygments_lexer": "ipython3",
   "version": "3.8.5"
  }
 },
 "nbformat": 4,
 "nbformat_minor": 4
}
